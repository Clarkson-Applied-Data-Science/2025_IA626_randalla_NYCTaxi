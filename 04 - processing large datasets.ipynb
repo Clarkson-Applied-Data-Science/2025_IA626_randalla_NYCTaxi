{
 "cells": [
  {
   "cell_type": "code",
   "execution_count": 1,
   "id": "c70a7c8f",
   "metadata": {},
   "outputs": [],
   "source": [
    "import csv\n",
    "import datetime"
   ]
  },
  {
   "cell_type": "code",
   "execution_count": 2,
   "id": "4140367c",
   "metadata": {},
   "outputs": [],
   "source": [
    "from math import radians, cos, sin, asin, sqrt\n",
    "\n",
    "def haversine(lon1, lat1, lon2, lat2):\n",
    "    \"\"\"\n",
    "    Calculate the great circle distance in kilometers between two points \n",
    "    on the earth (specified in decimal degrees)\n",
    "    \"\"\"\n",
    "    # convert decimal degrees to radians \n",
    "    lon1, lat1, lon2, lat2 = map(radians, [lon1, lat1, lon2, lat2])\n",
    "\n",
    "    # haversine formula \n",
    "    dlon = lon2 - lon1 \n",
    "    dlat = lat2 - lat1 \n",
    "    a = sin(dlat/2)**2 + cos(lat1) * cos(lat2) * sin(dlon/2)**2\n",
    "    c = 2 * asin(sqrt(a)) \n",
    "    #r = 6371 # Radius of earth in kilometers. Use 3956 for miles. Determines return value units.\n",
    "    r = 3956\n",
    "    return c * r"
   ]
  },
  {
   "cell_type": "code",
   "execution_count": 3,
   "id": "e3971fab",
   "metadata": {},
   "outputs": [],
   "source": [
    "NYCLoc=[40.7127,-74.0059] #Use a lat/lon in NYC to compare against.  Taxi rides from >100km excluded.\n",
    "filterRadius = 100"
   ]
  },
  {
   "cell_type": "code",
   "execution_count": 4,
   "id": "452cf253",
   "metadata": {},
   "outputs": [],
   "source": [
    "def checkDict(key,dict):\n",
    "    if key not in dict:\n",
    "        dict[key]=1\n",
    "    else: dict[key]+=1"
   ]
  },
  {
   "cell_type": "code",
   "execution_count": null,
   "id": "d4fbe614",
   "metadata": {},
   "outputs": [],
   "source": [
    "tripDistanceBins = [0.5,.75,1,1.5,2,3,4,5,10,25]"
   ]
  },
  {
   "cell_type": "code",
   "execution_count": 81,
   "id": "5f8a8db4",
   "metadata": {},
   "outputs": [],
   "source": [
    "#Initialize some variables\n",
    "cacheDateL=datetime.datetime.strptime('2100-12-01 00:00:00', \"%Y-%m-%d %H:%M:%S\")\n",
    "cacheDateH=datetime.datetime.strptime('2000-12-01 00:13:00', \"%Y-%m-%d %H:%M:%S\")\n",
    "cacheLat=-99999\n",
    "cacheLong=-99999\n",
    "tripDistanceBins = [0.5,.75,1,1.5,2,3,4,5,10,25]\n",
    "tripMinMax=[99999,0]\n",
    "passengerMinMax=[99999,0]\n",
    "tripDistMinMax=[99999,0]\n",
    "tripTimeMinMax=[99999,0]\n",
    "\n",
    "distBin = {k:0 for k in tripDistanceBins}\n",
    "LatLow=9999\n",
    "LongLow=999\n",
    "tripTotal=0\n",
    "counter = 0\n",
    "trips = 0\n",
    "tripTotal=0\n",
    "dateDict = {k:[0,0] for k in range(0,24)}\n",
    "medallionDict={}\n",
    "licenseDict={}\n",
    "vendorDict={}\n",
    "rate_codeDict={}\n",
    "flagDict={}\n",
    "flag=0\n",
    "\n",
    "fileName = 'trip_data_12.csv'\n",
    "#create a blank file to hold the subset data\n",
    "subFile='subset_' + fileName\n",
    "f2 = open(subFile,'w')\n",
    "f2.write('')\n",
    "f2.close()\n",
    "\n",
    "f2 = open(subFile,'a')\n",
    "writer = csv.writer(f2,delimiter=',',lineterminator='\\n')\n",
    "\n",
    "#loop through the larger dataset\n",
    "with open(fileName) as file:\n",
    "    data=csv.reader(file)\n",
    "    for line in data:\n",
    "        if counter == 0:\n",
    "            writer.writerow(line)\n",
    "            dictData = {k: None for k in line} #make a dictionary\n",
    "        if counter>0:\n",
    "            if counter % 1000 == 0: #write a subset for every 1000 rows.\n",
    "                writer.writerow(line)\n",
    "            #this dictionary section generating unique values for categorical items.  it saves the counts of occurances.\n",
    "            checkDict(line[0],medallionDict)\n",
    "            checkDict(line[1],licenseDict)\n",
    "            checkDict(line[2],vendorDict)\n",
    "            checkDict(line[3],rate_codeDict)\n",
    "            checkDict(line[4],flagDict)\n",
    "\n",
    "            #Check that the trip distance is a number higher than 0, otherwise ignore.\n",
    "            if float(line[8])>0:\n",
    "\n",
    "                #Binning section for trip distances.\n",
    "                for i in tripDistanceBins:\n",
    "                    if float(line[9]) <i:\n",
    "                        distBin[i]+=1\n",
    "                        break\n",
    "                    if i == len(tripDistanceBins):\n",
    "                        distBin[i] +=1\n",
    "                \n",
    "                currentDate=datetime.datetime.strptime(line[5], \"%Y-%m-%d %H:%M:%S\")\n",
    "\n",
    "                #create the binning for hour.  All days included in the average\n",
    "                dateDict[currentDate.hour][0] += 1\n",
    "                dateDict[currentDate.hour][1] += int(line[7])\n",
    "\n",
    "                tripDistance=haversine(float(line[10]),float(line[11]),float(line[12]),float(line[13]))\n",
    "                \n",
    "                #Ensure the NYC taxi data starts within 100km of a reference point to force data integrity.\n",
    "                if haversine(NYCLoc[1],NYCLoc[0],float(line[10]),float(line[11])) < filterRadius:\n",
    "                    if counter < 500 and flag == 0: #grab a line from the file to review the data and update a dictionary with those values.\n",
    "                        acounter=0\n",
    "                        for k in dictData.keys():\n",
    "                            dictData[k] = line[acounter]\n",
    "                            acounter+=1\n",
    "                    if tripDistance != 0 and float(line[9]) != 0:\n",
    "                        if 0.05 < tripDistance/float(line[9]) < 2:\n",
    "                            trips+=1\n",
    "                            tripTotal+=tripDistance\n",
    "                            if (float(line[10]) > float(cacheLong) and float(line[10]) < 0): cacheLong=float(line[10])\n",
    "                            if (float(line[10]) < LongLow): LongLow=float(line[10])\n",
    "                            if (float(line[11]) > float(cacheLat) and float(line[11]) > 20): cacheLat=float(line[11])\n",
    "                            if (float(line[11]) < LatLow and float(line[11]) > 20): LatLow=float(line[11])\n",
    "                    if currentDate>cacheDateH:\n",
    "                        cacheDateH=currentDate\n",
    "                    if currentDate<cacheDateL:\n",
    "                        cacheDateL=currentDate\n",
    "                    if float(line[7]) > passengerMinMax[1]: passengerMinMax[1]=float(line[7])\n",
    "                    if float(line[7]) < passengerMinMax[0] and float(line[7]) > 0: passengerMinMax[0]=float(line[7])\n",
    "\n",
    "                    if float(line[8]) > tripTimeMinMax[1]: tripTimeMinMax[1]=float(line[8])\n",
    "                    if float(line[8]) < tripTimeMinMax[0] and float(line[8]) > 0: tripTimeMinMax[0]=float(line[8])\n",
    "\n",
    "                    if float(line[9]) > tripDistMinMax[1]: tripDistMinMax[1]=float(line[9])\n",
    "                    if float(line[9]) < tripDistMinMax[0] and float(line[9]) > 0: tripDistMinMax[0]=float(line[9])                    \n",
    "        counter +=1\n",
    "        #if counter > 1000000:\n",
    "            #break\n",
    "\n",
    "f2.close()\n",
    "\n"
   ]
  },
  {
   "cell_type": "code",
   "execution_count": 49,
   "id": "afaddc84",
   "metadata": {},
   "outputs": [],
   "source": [
    "def printMinMax(name,list):\n",
    "    print(f'{name} min: {list[0]} -- max: {list[1]}')"
   ]
  },
  {
   "cell_type": "code",
   "execution_count": 57,
   "id": "274e00ed",
   "metadata": {},
   "outputs": [
    {
     "name": "stdout",
     "output_type": "stream",
     "text": [
      "Distance min: 0.01 -- max: 100.0\n",
      "Time min: 1.0 -- max: 10800.0\n",
      "Passengers min: 1.0 -- max: 9.0\n"
     ]
    }
   ],
   "source": [
    "printMinMax('Distance',tripDistMinMax)\n",
    "printMinMax('Time',tripTimeMinMax)\n",
    "printMinMax('Passengers',passengerMinMax)"
   ]
  },
  {
   "cell_type": "code",
   "execution_count": 73,
   "id": "c2ef7531",
   "metadata": {},
   "outputs": [
    {
     "data": {
      "text/plain": [
       "{'medallion': 'C8BC04755429D80D0FFBEABF39419C64',\n",
       " ' hack_license': '749741DFA0361B4ABF3C7493A19320E5',\n",
       " ' vendor_id': 'VTS',\n",
       " ' rate_code': '1',\n",
       " ' store_and_fwd_flag': '',\n",
       " ' pickup_datetime': '2013-12-04 12:27:00',\n",
       " ' dropoff_datetime': '2013-12-04 12:52:00',\n",
       " ' passenger_count': '1',\n",
       " ' trip_time_in_secs': '1500',\n",
       " ' trip_distance': '2.24',\n",
       " ' pickup_longitude': '-73.958069',\n",
       " ' pickup_latitude': '40.784843',\n",
       " ' dropoff_longitude': '-73.977364',\n",
       " ' dropoff_latitude': '40.760086'}"
      ]
     },
     "execution_count": 73,
     "metadata": {},
     "output_type": "execute_result"
    }
   ],
   "source": [
    "dictData\n"
   ]
  },
  {
   "cell_type": "markdown",
   "id": "3c3cbb62",
   "metadata": {},
   "source": [
    "trip_distance in kilometers."
   ]
  },
  {
   "cell_type": "code",
   "execution_count": 8,
   "id": "2b403b37",
   "metadata": {},
   "outputs": [
    {
     "data": {
      "text/plain": [
       "6.0903284486411025"
      ]
     },
     "execution_count": 8,
     "metadata": {},
     "output_type": "execute_result"
    }
   ],
   "source": [
    "haversine(float(dictData[' pickup_longitude']),float(dictData[' pickup_latitude']),float(dictData[' dropoff_longitude']),float(dictData[' dropoff_latitude']))"
   ]
  },
  {
   "cell_type": "code",
   "execution_count": 9,
   "id": "c62c41c6",
   "metadata": {},
   "outputs": [],
   "source": [
    "acounter=0\n",
    "for k in dictData.keys():\n",
    "    dictData[k] = line[acounter]\n",
    "    acounter+=1"
   ]
  },
  {
   "cell_type": "code",
   "execution_count": 10,
   "id": "c162a542",
   "metadata": {},
   "outputs": [
    {
     "data": {
      "text/plain": [
       "{'': 999567, 'N': 421, 'Y': 12}"
      ]
     },
     "execution_count": 10,
     "metadata": {},
     "output_type": "execute_result"
    }
   ],
   "source": [
    "flagDict"
   ]
  },
  {
   "cell_type": "code",
   "execution_count": 11,
   "id": "0901c137",
   "metadata": {},
   "outputs": [
    {
     "data": {
      "text/plain": [
       "{0.5: 44108,\n",
       " 0.75: 81805,\n",
       " 1: 103392,\n",
       " 1.5: 191344,\n",
       " 2: 142078,\n",
       " 3: 164859,\n",
       " 4: 84285,\n",
       " 5: 47682,\n",
       " 10: 136277,\n",
       " 25: 48691}"
      ]
     },
     "execution_count": 11,
     "metadata": {},
     "output_type": "execute_result"
    }
   ],
   "source": [
    "distBin"
   ]
  },
  {
   "cell_type": "code",
   "execution_count": 12,
   "id": "5877e278",
   "metadata": {},
   "outputs": [],
   "source": [
    "\n",
    "distanceBinned = list(distBin.values())\n"
   ]
  },
  {
   "cell_type": "code",
   "execution_count": 307,
   "id": "773486e5",
   "metadata": {},
   "outputs": [
    {
     "data": {
      "text/plain": [
       "['6454C60D38D768346785F94F4F8C407C',\n",
       " 'BC447BB2441875006AA1954CFDF9FE97',\n",
       " 'VTS',\n",
       " '1',\n",
       " '',\n",
       " '2013-12-10 06:38:00',\n",
       " '2013-12-10 06:49:00',\n",
       " '2',\n",
       " '660',\n",
       " '3.44',\n",
       " '-73.958473',\n",
       " '40.810467',\n",
       " '-73.981705',\n",
       " '40.767681']"
      ]
     },
     "execution_count": 307,
     "metadata": {},
     "output_type": "execute_result"
    }
   ],
   "source": [
    "line"
   ]
  },
  {
   "cell_type": "code",
   "execution_count": 212,
   "id": "a379293f",
   "metadata": {},
   "outputs": [
    {
     "data": {
      "text/plain": [
       "{'medallion': None,\n",
       " ' hack_license': None,\n",
       " ' vendor_id': None,\n",
       " ' rate_code': None,\n",
       " ' store_and_fwd_flag': None,\n",
       " ' pickup_datetime': None,\n",
       " ' dropoff_datetime': None,\n",
       " ' passenger_count': None,\n",
       " ' trip_time_in_secs': None,\n",
       " ' trip_distance': None,\n",
       " ' pickup_longitude': None,\n",
       " ' pickup_latitude': None,\n",
       " ' dropoff_longitude': None,\n",
       " ' dropoff_latitude': None}"
      ]
     },
     "execution_count": 212,
     "metadata": {},
     "output_type": "execute_result"
    }
   ],
   "source": [
    "dictData"
   ]
  },
  {
   "cell_type": "code",
   "execution_count": 229,
   "id": "bc0eb08a",
   "metadata": {},
   "outputs": [
    {
     "data": {
      "text/plain": [
       "{0: 0, 1: 0, 2: 0, 3: 0, 4: 0, 5: 0, 10: 0, 25: 0}"
      ]
     },
     "execution_count": 229,
     "metadata": {},
     "output_type": "execute_result"
    }
   ],
   "source": [
    "tripDistanceBins = [0,1,2,3,4,5,10,25]\n",
    "\n",
    "distBin = {k:0 for k in tripDistanceBins}\n",
    "\n",
    "distBin"
   ]
  },
  {
   "cell_type": "code",
   "execution_count": 273,
   "id": "a976c630",
   "metadata": {},
   "outputs": [
    {
     "name": "stdout",
     "output_type": "stream",
     "text": [
      "10\n",
      "11\n"
     ]
    }
   ],
   "source": [
    "print(len(tripDistanceBins))\n",
    "print(len(distanceBinned))"
   ]
  },
  {
   "cell_type": "code",
   "execution_count": 274,
   "id": "ffe00faf",
   "metadata": {},
   "outputs": [
    {
     "data": {
      "text/plain": [
       "[44108, 81805, 103392, 191344, 142078, 164859, 84285, 47682, 136277, 48691, 0]"
      ]
     },
     "execution_count": 274,
     "metadata": {},
     "output_type": "execute_result"
    }
   ],
   "source": [
    "distanceBinned"
   ]
  },
  {
   "cell_type": "code",
   "execution_count": 60,
   "id": "b3fd01d2",
   "metadata": {},
   "outputs": [
    {
     "data": {
      "text/plain": [
       "{0.5: 585955,\n",
       " 0.75: 1246275,\n",
       " 1: 1286687,\n",
       " 1.5: 2647285,\n",
       " 2: 1971102,\n",
       " 3: 2325396,\n",
       " 4: 1207204,\n",
       " 5: 682602,\n",
       " 10: 1977164,\n",
       " 25: 710375}"
      ]
     },
     "execution_count": 60,
     "metadata": {},
     "output_type": "execute_result"
    }
   ],
   "source": [
    "distBin"
   ]
  },
  {
   "cell_type": "code",
   "execution_count": 61,
   "id": "9a911aae",
   "metadata": {},
   "outputs": [
    {
     "data": {
      "image/png": "[encoded data removed]",
      "text/plain": [
       "<Figure size 640x480 with 1 Axes>"
      ]
     },
     "metadata": {},
     "output_type": "display_data"
    }
   ],
   "source": [
    "import matplotlib.pyplot as plt\n",
    "\n",
    "fig, ax = plt.subplots()\n",
    "\n",
    "ax.bar(x=tripDistanceBins,height=distanceBinned)\n",
    "\n",
    "ax.set_xlabel('Trip Distance')\n",
    "ax.set_ylabel('Count of Trips')\n",
    "#ax.set_ylim(0,2)\n",
    "#ax.set_xlim(-1,24)\n",
    "#ax.set_xticks(tripDistanceBins)\n",
    "ax.set_title('Trips by Trip Distance')\n",
    "ax.set_yscale('log')\n",
    "plt.show()"
   ]
  },
  {
   "cell_type": "code",
   "execution_count": 194,
   "id": "f69f3b18",
   "metadata": {},
   "outputs": [
    {
     "data": {
      "text/plain": [
       "6.2158229002264624"
      ]
     },
     "execution_count": 194,
     "metadata": {},
     "output_type": "execute_result"
    }
   ],
   "source": [
    "haversine(NYCLoc[1],NYCLoc[0],float(line[10]),float(line[11]))"
   ]
  },
  {
   "cell_type": "code",
   "execution_count": 193,
   "id": "48022977",
   "metadata": {},
   "outputs": [
    {
     "data": {
      "text/plain": [
       "[40.7127, -74.0059]"
      ]
     },
     "execution_count": 193,
     "metadata": {},
     "output_type": "execute_result"
    }
   ],
   "source": [
    "NYCLoc"
   ]
  },
  {
   "cell_type": "code",
   "execution_count": 15,
   "id": "f6e40a46",
   "metadata": {},
   "outputs": [],
   "source": [
    "dv=[]\n",
    "height=[]\n",
    "counter2=0\n",
    "for items in dateDict.values():\n",
    "    height.append(counter2)\n",
    "    counter2+=1\n",
    "    dv.append(items[1]/items[0])"
   ]
  },
  {
   "cell_type": "code",
   "execution_count": 62,
   "id": "d7b5e7d3",
   "metadata": {},
   "outputs": [
    {
     "data": {
      "image/png": "[encoded data removed]",
      "text/plain": [
       "<Figure size 640x480 with 1 Axes>"
      ]
     },
     "metadata": {},
     "output_type": "display_data"
    }
   ],
   "source": [
    "import matplotlib.pyplot as plt\n",
    "\n",
    "fig, ax = plt.subplots()\n",
    "\n",
    "ax.bar(x=height,height=dv)\n",
    "\n",
    "ax.set_xlabel('Hour of the Day')\n",
    "ax.set_ylabel('Average # Passengers')\n",
    "#ax.set_ylim(0,2)\n",
    "ax.set_xlim(-1,24)\n",
    "ax.set_xticks([0,3,6,9,12,15,18,21])\n",
    "ax.set_title('Average # Passengers by Hour')\n",
    "plt.show()"
   ]
  },
  {
   "cell_type": "code",
   "execution_count": 63,
   "id": "7001417b",
   "metadata": {},
   "outputs": [
    {
     "name": "stdout",
     "output_type": "stream",
     "text": [
      "The file has 13971118 lines\n",
      "The latest date is : 2013-12-31 23:59:57\n",
      "The earliest date is : 2013-12-01 00:00:00\n",
      "The lat 41.545189\n",
      "The long -72.347534\n",
      "low long : -75.280258\n",
      "low lat 39.751335\n",
      "TotalDistance 28752009.93686609 and 13432221 trips\n",
      "avg trip distance 2.140525378257705\n"
     ]
    }
   ],
   "source": [
    "print(f'The file has {counter-1} lines')\n",
    "print(f'The latest date is : {cacheDateH}')\n",
    "print(f'The earliest date is : {cacheDateL}')\n",
    "print(f'The lat {cacheLat}')\n",
    "print(f'The long {cacheLong}')\n",
    "print(f'low long : {LongLow}')\n",
    "print(f'low lat {LatLow}')\n",
    "print(f'TotalDistance {tripTotal} and {trips} trips')\n",
    "print(f'avg trip distance {tripTotal/trips}')"
   ]
  },
  {
   "cell_type": "code",
   "execution_count": 64,
   "id": "e3d87bee",
   "metadata": {},
   "outputs": [
    {
     "name": "stdout",
     "output_type": "stream",
     "text": [
      "\n",
      "{\n",
      "  \"type\": \"FeatureCollection\",\n",
      "  \"features\": [\n",
      "\n",
      "    {\n",
      "      \"type\": \"Feature\",\n",
      "      \"properties\": {},\n",
      "      \"geometry\": {\n",
      "        \"coordinates\": [\n",
      "            [\n",
      "                [-72.347534,41.545189],\n",
      "                [-75.280258,41.545189],\n",
      "                [-75.280258,39.751335],\n",
      "                [-72.347534,39.751335],\n",
      "                [-72.347534,41.545189]\n",
      "            ]\n",
      "        ],\n",
      "        \"type\": \"Polygon\"\n",
      "      }\n",
      "    }\n",
      "  ]\n",
      "}\n",
      "\n"
     ]
    }
   ],
   "source": [
    "print(f'''\n",
    "{{\n",
    "  \"type\": \"FeatureCollection\",\n",
    "  \"features\": [\n",
    "\n",
    "    {{\n",
    "      \"type\": \"Feature\",\n",
    "      \"properties\": {{}},\n",
    "      \"geometry\": {{\n",
    "        \"coordinates\": [\n",
    "            [\n",
    "                [{cacheLong},{cacheLat}],\n",
    "                [{LongLow},{cacheLat}],\n",
    "                [{LongLow},{LatLow}],\n",
    "                [{cacheLong},{LatLow}],\n",
    "                [{cacheLong},{cacheLat}]\n",
    "            ]\n",
    "        ],\n",
    "        \"type\": \"Polygon\"\n",
    "      }}\n",
    "    }}\n",
    "  ]\n",
    "}}\n",
    "'''\n",
    ")"
   ]
  },
  {
   "cell_type": "markdown",
   "id": "524e7488",
   "metadata": {},
   "source": [
    "{\n",
    "  \"type\": \"FeatureCollection\",\n",
    "  \"features\": [\n",
    "\n",
    "    {\n",
    "      \"type\": \"Feature\",\n",
    "      \"properties\": {},\n",
    "      \"geometry\": {\n",
    "        \"coordinates\": [\n",
    "          [\n",
    "            [\n",
    "              -73.738625,\n",
    "              40.871399\n",
    "            ],\n",
    "          [\n",
    "              -73.738625,\n",
    "              40.629185\n",
    "            ],\n",
    "            [\n",
    "              -74.025742,\n",
    "              40.629185\n",
    "            ],\n",
    "          [\n",
    "            -74.025742,\n",
    "            40.871399\n",
    "            ],\n",
    "                        [\n",
    "              -73.738625,\n",
    "              40.871399\n",
    "            ]\n",
    "          ]\n",
    "        ],\n",
    "        \"type\": \"Polygon\"\n",
    "      }\n",
    "    }\n",
    "  ]\n",
    "}"
   ]
  },
  {
   "cell_type": "code",
   "execution_count": 327,
   "id": "0f0e1784",
   "metadata": {},
   "outputs": [],
   "source": [
    "subFile='NYC_Taxi_Subset.csv'\n",
    "f2 = open(subFile,'w')\n",
    "f2.write('')\n",
    "f2.close()\n",
    "\n",
    "f2 = open(subFile,'a')\n",
    "writer = csv.writer(f2,delimiter=',',lineterminator='\\n')\n",
    "\n",
    "testCount=0\n",
    "with open('trip_data_12.csv') as file:\n",
    "    data=csv.reader(file)\n",
    "    for line in data:\n",
    "        writer.writerow(line)\n",
    "        testCount+=1\n",
    "        if testCount > 100:\n",
    "            break\n",
    "    \n",
    "\n",
    "f2.close()"
   ]
  },
  {
   "cell_type": "code",
   "execution_count": null,
   "id": "e71379be",
   "metadata": {},
   "outputs": [
    {
     "name": "stdout",
     "output_type": "stream",
     "text": [
      "0\n",
      "100\n",
      "200\n",
      "300\n",
      "400\n",
      "500\n",
      "600\n",
      "700\n",
      "800\n",
      "900\n"
     ]
    }
   ],
   "source": [
    "#create blank file\n",
    "for i in range(0,1000):\n",
    "    if i % 100 == 0:\n",
    "        print(i)\n",
    "        #write to the blank file created"
   ]
  },
  {
   "cell_type": "code",
   "execution_count": 65,
   "id": "8aa0aaf1",
   "metadata": {},
   "outputs": [],
   "source": [
    "#Initialize some variables\n",
    "cacheDateL=datetime.datetime.strptime('2100-12-01 00:00:00', \"%Y-%m-%d %H:%M:%S\")\n",
    "cacheDateH=datetime.datetime.strptime('2000-12-01 00:13:00', \"%Y-%m-%d %H:%M:%S\")\n",
    "cacheLat=-99999\n",
    "cacheLong=-99999\n",
    "tripDistanceBins = [0.5,.75,1,1.5,2,3,4,5,10,25]\n",
    "tripMinMax=[99999,0]\n",
    "passengerMinMax=[99999,0]\n",
    "tripDistMinMax=[99999,0]\n",
    "tripTimeMinMax=[99999,0]\n",
    "\n",
    "distBin = {k:0 for k in tripDistanceBins}\n",
    "LatLow=9999\n",
    "LongLow=999\n",
    "tripTotal=0\n",
    "counter = 0\n",
    "trips = 0\n",
    "tripTotal=0\n",
    "dateDict = {k:[0,0] for k in range(0,24)}\n",
    "medallionDict={}\n",
    "licenseDict={}\n",
    "vendorDict={}\n",
    "rate_codeDict={}\n",
    "flagDict={}\n",
    "flag=0\n",
    "\n",
    "fileName = 'trip_data_12.csv'\n",
    "#create a blank file to hold the subset data\n",
    "subFile='subset_' + fileName\n",
    "\n",
    "#loop through the larger dataset\n",
    "with open(subFile) as file:\n",
    "    data=csv.reader(file)\n",
    "    for line in data:\n",
    "        if counter == 0:\n",
    "            dictData = {k: None for k in line} #make a dictionary\n",
    "        if counter>0:\n",
    "            #this dictionary section generating unique values for categorical items.  it saves the counts of occurances.\n",
    "            checkDict(line[0],medallionDict)\n",
    "            checkDict(line[1],licenseDict)\n",
    "            checkDict(line[2],vendorDict)\n",
    "            checkDict(line[3],rate_codeDict)\n",
    "            checkDict(line[4],flagDict)\n",
    "\n",
    "            #Check that the trip distance is a number higher than 0, otherwise ignore.\n",
    "            if float(line[8])>0:\n",
    "\n",
    "                #Binning section for trip distances.\n",
    "                for i in tripDistanceBins:\n",
    "                    if float(line[9]) <i:\n",
    "                        distBin[i]+=1\n",
    "                        break\n",
    "                    if i == len(tripDistanceBins):\n",
    "                        distBin[i] +=1\n",
    "                \n",
    "                currentDate=datetime.datetime.strptime(line[5], \"%Y-%m-%d %H:%M:%S\")\n",
    "\n",
    "                #create the binning for hour.  All days included in the average\n",
    "                dateDict[currentDate.hour][0] += 1\n",
    "                dateDict[currentDate.hour][1] += int(line[7])\n",
    "\n",
    "                tripDistance=haversine(float(line[10]),float(line[11]),float(line[12]),float(line[13]))\n",
    "                \n",
    "                #Ensure the NYC taxi data starts within 100km of a reference point to force data integrity.\n",
    "                if haversine(NYCLoc[1],NYCLoc[0],float(line[10]),float(line[11])) < filterRadius:\n",
    "                    if counter < 500 and flag == 0: #grab a line from the file to review the data and update a dictionary with those values.\n",
    "                        acounter=0\n",
    "                        for k in dictData.keys():\n",
    "                            dictData[k] = line[acounter]\n",
    "                            acounter+=1\n",
    "                    if tripDistance != 0 and float(line[9]) != 0:\n",
    "                        if 0.05 < tripDistance/float(line[9]) < 2:\n",
    "                            trips+=1\n",
    "                            tripTotal+=tripDistance\n",
    "                            if (float(line[10]) > float(cacheLong) and float(line[10]) < 0): cacheLong=float(line[10])\n",
    "                            if (float(line[10]) < LongLow): LongLow=float(line[10])\n",
    "                            if (float(line[11]) > float(cacheLat) and float(line[11]) > 20): cacheLat=float(line[11])\n",
    "                            if (float(line[11]) < LatLow and float(line[11]) > 20): LatLow=float(line[11])\n",
    "                    if currentDate>cacheDateH:\n",
    "                        cacheDateH=currentDate\n",
    "                    if currentDate<cacheDateL:\n",
    "                        cacheDateL=currentDate\n",
    "                    if float(line[7]) > passengerMinMax[1]: passengerMinMax[1]=float(line[7])\n",
    "                    if float(line[7]) < passengerMinMax[0] and float(line[7]) > 0: passengerMinMax[0]=float(line[7])\n",
    "\n",
    "                    if float(line[8]) > tripTimeMinMax[1]: tripTimeMinMax[1]=float(line[8])\n",
    "                    if float(line[8]) < tripTimeMinMax[0] and float(line[8]) > 0: tripTimeMinMax[0]=float(line[8])\n",
    "\n",
    "                    if float(line[9]) > tripDistMinMax[1]: tripDistMinMax[1]=float(line[9])\n",
    "                    if float(line[9]) < tripDistMinMax[0] and float(line[9]) > 0: tripDistMinMax[0]=float(line[9])                    \n",
    "        counter +=1\n",
    "        #if counter > 1000000:\n",
    "            #break\n"
   ]
  },
  {
   "cell_type": "code",
   "execution_count": 66,
   "id": "7cb10a73",
   "metadata": {},
   "outputs": [
    {
     "name": "stdout",
     "output_type": "stream",
     "text": [
      "The file has 13971 lines\n",
      "The latest date is : 2013-12-31 23:59:04\n",
      "The earliest date is : 2013-12-01 00:02:11\n",
      "The lat 40.891258\n",
      "The long -73.747932\n",
      "low long : -74.537498\n",
      "low lat 40.595524\n",
      "TotalDistance 28627.158752721713 and 13429 trips\n",
      "avg trip distance 2.1317416600433177\n"
     ]
    }
   ],
   "source": [
    "print(f'The file has {counter-1} lines')\n",
    "print(f'The latest date is : {cacheDateH}')\n",
    "print(f'The earliest date is : {cacheDateL}')\n",
    "print(f'The lat {cacheLat}')\n",
    "print(f'The long {cacheLong}')\n",
    "print(f'low long : {LongLow}')\n",
    "print(f'low lat {LatLow}')\n",
    "print(f'TotalDistance {tripTotal} and {trips} trips')\n",
    "print(f'avg trip distance {tripTotal/trips}')"
   ]
  },
  {
   "cell_type": "code",
   "execution_count": 67,
   "id": "4bca5105",
   "metadata": {},
   "outputs": [
    {
     "name": "stdout",
     "output_type": "stream",
     "text": [
      "Distance min: 0.02 -- max: 44.53\n",
      "Time min: 1.0 -- max: 7260.0\n",
      "Passengers min: 1.0 -- max: 6.0\n"
     ]
    }
   ],
   "source": [
    "printMinMax('Distance',tripDistMinMax)\n",
    "printMinMax('Time',tripTimeMinMax)\n",
    "printMinMax('Passengers',passengerMinMax)"
   ]
  },
  {
   "cell_type": "code",
   "execution_count": 69,
   "id": "1ee73a66",
   "metadata": {},
   "outputs": [
    {
     "data": {
      "image/png": "[encoded data removed]",
      "text/plain": [
       "<Figure size 640x480 with 1 Axes>"
      ]
     },
     "metadata": {},
     "output_type": "display_data"
    }
   ],
   "source": [
    "dv=[]\n",
    "height=[]\n",
    "counter2=0\n",
    "for items in dateDict.values():\n",
    "    height.append(counter2)\n",
    "    counter2+=1\n",
    "    dv.append(items[1]/items[0])\n",
    "\n",
    "fig, ax = plt.subplots()\n",
    "\n",
    "ax.bar(x=height,height=dv)\n",
    "\n",
    "ax.set_xlabel('Hour of the Day')\n",
    "ax.set_ylabel('Average # Passengers')\n",
    "#ax.set_ylim(0,2)\n",
    "ax.set_xlim(-1,24)\n",
    "ax.set_xticks([0,3,6,9,12,15,18,21])\n",
    "ax.set_title('Average # Passengers by Hour')\n",
    "plt.show()"
   ]
  },
  {
   "cell_type": "code",
   "execution_count": 86,
   "id": "65fe5373",
   "metadata": {},
   "outputs": [
    {
     "name": "stdout",
     "output_type": "stream",
     "text": [
      "{'VTS': 7057292, 'CMT': 6913826}\n",
      "14\n"
     ]
    }
   ],
   "source": [
    "len(medallionDict)\n",
    "#len(licenseDict)\n",
    "print(vendorDict)\n",
    "print(len(rate_codeDict))\n",
    "#flagDict"
   ]
  }
 ],
 "metadata": {
  "kernelspec": {
   "display_name": "Python 3",
   "language": "python",
   "name": "python3"
  },
  "language_info": {
   "codemirror_mode": {
    "name": "ipython",
    "version": 3
   },
   "file_extension": ".py",
   "mimetype": "text/x-python",
   "name": "python",
   "nbconvert_exporter": "python",
   "pygments_lexer": "ipython3",
   "version": "3.9.6"
  }
 },
 "nbformat": 4,
 "nbformat_minor": 5
}
